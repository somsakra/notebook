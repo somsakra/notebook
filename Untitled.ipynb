{
 "cells": [
  {
   "cell_type": "markdown",
   "id": "2c6fe48c",
   "metadata": {},
   "source": [
    "# Notebook import and package"
   ]
  },
  {
   "cell_type": "code",
   "execution_count": 3,
   "id": "35f08c58",
   "metadata": {},
   "outputs": [],
   "source": [
    "import matplotlib.pyplot as plt\n",
    "import numpy as np\n",
    "\n",
    "%matplotlib inline"
   ]
  },
  {
   "cell_type": "markdown",
   "id": "b13da5c7",
   "metadata": {},
   "source": [
    "# Example 1 - A simple cost function\n",
    "## $$f(x) = x^2 + x + 1$$"
   ]
  },
  {
   "cell_type": "code",
   "execution_count": 4,
   "id": "21441ca4",
   "metadata": {},
   "outputs": [],
   "source": [
    "def f(x):\n",
    "    return x**2 + x + 1"
   ]
  },
  {
   "cell_type": "code",
   "execution_count": 7,
   "id": "ee09b5f2",
   "metadata": {},
   "outputs": [],
   "source": [
    "# Make Data\n",
    "x_1 = np.linspace(start=1, stop=100, num=100)"
   ]
  },
  {
   "cell_type": "code",
   "execution_count": 8,
   "id": "533e652c",
   "metadata": {},
   "outputs": [
    {
     "name": "stdout",
     "output_type": "stream",
     "text": [
      "[  1.   2.   3.   4.   5.   6.   7.   8.   9.  10.  11.  12.  13.  14.\n",
      "  15.  16.  17.  18.  19.  20.  21.  22.  23.  24.  25.  26.  27.  28.\n",
      "  29.  30.  31.  32.  33.  34.  35.  36.  37.  38.  39.  40.  41.  42.\n",
      "  43.  44.  45.  46.  47.  48.  49.  50.  51.  52.  53.  54.  55.  56.\n",
      "  57.  58.  59.  60.  61.  62.  63.  64.  65.  66.  67.  68.  69.  70.\n",
      "  71.  72.  73.  74.  75.  76.  77.  78.  79.  80.  81.  82.  83.  84.\n",
      "  85.  86.  87.  88.  89.  90.  91.  92.  93.  94.  95.  96.  97.  98.\n",
      "  99. 100.]\n"
     ]
    }
   ],
   "source": [
    "print(x_1)"
   ]
  },
  {
   "cell_type": "code",
   "execution_count": null,
   "id": "3252bcb0",
   "metadata": {},
   "outputs": [],
   "source": []
  }
 ],
 "metadata": {
  "kernelspec": {
   "display_name": "Python 3 (ipykernel)",
   "language": "python",
   "name": "python3"
  },
  "language_info": {
   "codemirror_mode": {
    "name": "ipython",
    "version": 3
   },
   "file_extension": ".py",
   "mimetype": "text/x-python",
   "name": "python",
   "nbconvert_exporter": "python",
   "pygments_lexer": "ipython3",
   "version": "3.9.12"
  }
 },
 "nbformat": 4,
 "nbformat_minor": 5
}
